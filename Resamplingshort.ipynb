{
 "cells": [
  {
   "cell_type": "code",
   "execution_count": 1,
   "metadata": {},
   "outputs": [
    {
     "name": "stderr",
     "output_type": "stream",
     "text": [
      "c:\\Users\\AudreyHay\\anaconda3\\envs\\env\\lib\\site-packages\\dask\\array\\core.py:1326: FutureWarning: The `numpy.append` function is not implemented by Dask array. You may want to use the da.map_blocks function or something similar to silence this warning. Your code may stop working in a future release.\n",
      "  warnings.warn(\n"
     ]
    }
   ],
   "source": [
    "from pathlib import Path\n",
    "import numpy as np\n",
    "import dask.array as da\n",
    "import mmap\n",
    "import pandas as pd\n",
    "import scipy\n",
    "from scipy import interpolate\n",
    "from scipy import fftpack\n",
    "from scipy import signal\n",
    "import matplotlib.pyplot as plt\n",
    "\n",
    "\n",
    "def other_mmap(filename, shape, dtype, chunks):\n",
    "    with open(filename, \"rb\") as fh:\n",
    "        # `mmap` duplicates the file descriptor\n",
    "        # `0` means map the full file\n",
    "        mm = mmap.mmap(fh.fileno(), 0, access=mmap.ACCESS_READ)\n",
    "\n",
    "    # coerce to NumPy array of expected type and shape\n",
    "    a = np.asarray(mm).view(dtype).reshape(shape)\n",
    "\n",
    "    # Don't call `asarray`\n",
    "    # name=False to avoid hashing\n",
    "    a_d = da.from_array(a, chunks=chunks, asarray=False, name=False)\n",
    "    return a_d\n",
    "\n",
    "folder_base = Path('C:/Users/AudreyHay/Desktop/openephys/2024-02-16_11-11-21/Record Node 102/experiment1/recording2/continuous/Acquisition_Board-104.Rhythm Data')\n",
    "#folder_base = Path('/mnt/data/ahay/')\n",
    "\n",
    "filename = folder_base / f'continuous.dat'\n",
    "data = other_mmap(filename, (-1, 64), \"int16\", chunks=(-1, 1))\n",
    "data2 = data[:,1:16] #33:48 pour le 2e rat\n",
    "data3 = data[:,16:32] #48:64 pour le 2e rat\n",
    "\n",
    "list_rawchan = np.append(data2, data3, axis = 1)\n",
    "list_rawchan2 = list_rawchan.T\n",
    "list_rawchan_filt = []\n",
    "for ele, file in enumerate(list_rawchan2):\n",
    "    ele2 = ele + 1\n",
    "    sampling_rate = 2000 # Hz\n",
    "    new_sampling_rate = 1000 # Hz\n",
    "    ratio = int(sampling_rate/new_sampling_rate)\n",
    "    nmberchann = file.shape\n",
    "    datalen = file.size/ nmberchann[0]# put 1 when no np.append for list_rawchan\n",
    "    Nmber_points = int(datalen * new_sampling_rate / sampling_rate)\n",
    "    globals()[f\"DS_GoodChannels_{ele2}\"] = signal.decimate(file, ratio, ftype='fir', axis= 0, zero_phase=True)\n",
    "    Good_channels_filtered = globals()[f\"DS_GoodChannels_{ele2}\"]\n",
    "    #Good_channels_filtered = Good_channels_filtered[:,1:32]\n",
    "    list_rawchan_filt.append(Good_channels_filtered)\n",
    "    globals()[f\"xrGoodChannels_{ele2}\"] = None\n",
    "\n",
    "list_rawchan = None\n",
    "folder_output = Path('C:/Users/AudreyHay/Desktop/openephys/2024-02-16_11-11-21/Record Node 102/experiment1/recording2/continuous/Acquisition_Board-104.Rhythm Data')\n",
    "filename2 = folder_output / f'RawDataChannelExtractedDS2.npy'\n",
    "np.save(filename2, list_rawchan_filt)"
   ]
  }
 ],
 "metadata": {
  "kernelspec": {
   "display_name": "Python 3",
   "language": "python",
   "name": "python3"
  },
  "language_info": {
   "codemirror_mode": {
    "name": "ipython",
    "version": 3
   },
   "file_extension": ".py",
   "mimetype": "text/x-python",
   "name": "python",
   "nbconvert_exporter": "python",
   "pygments_lexer": "ipython3",
   "version": "3.9.18"
  }
 },
 "nbformat": 4,
 "nbformat_minor": 2
}
