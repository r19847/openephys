{
 "cells": [
  {
   "cell_type": "markdown",
   "metadata": {},
   "source": [
    "# This is just a notebook to visualise 1kHz filtered raw data"
   ]
  },
  {
   "cell_type": "code",
   "execution_count": 6,
   "metadata": {},
   "outputs": [],
   "source": [
    "import quantities as pq\n",
    "import numpy as np\n",
    "import neo\n",
    "from pathlib import Path\n",
    "import pandas as pd\n",
    "import matplotlib.pyplot as plt\n",
    "from matplotlib.widgets import Slider, Button, Cursor\n",
    "import scipy\n",
    "from scipy import interpolate\n",
    "from scipy import fftpack\n",
    "from scipy import signal\n",
    "\n",
    "import mmap\n",
    "import xarray as xr\n",
    "import dask.array as da\n",
    "%matplotlib widget\n",
    "\n",
    "\n",
    "from ephyviewer import mkQApp, MainViewer, TraceViewer"
   ]
  },
  {
   "cell_type": "markdown",
   "metadata": {},
   "source": [
    "Load RawDataChannelExtractedDS.npy"
   ]
  },
  {
   "cell_type": "code",
   "execution_count": 7,
   "metadata": {},
   "outputs": [
    {
     "name": "stdout",
     "output_type": "stream",
     "text": [
      "All: (7518720, 64)\n",
      "All2: (7518720, 32)\n"
     ]
    }
   ],
   "source": [
    "folder_base = Path('C:/Users/AudreyHay/Desktop/openephys/2024-02-16_11-11-21/Record Node 102/experiment1/recording2/continuous/Acquisition_Board-104.Rhythm Data')\n",
    "# C:/Users/AudreyHay/Desktop/openephys/2024-02-27_09-55-37/Record Node 103/experiment1/recording1/continuous/Acquisition_Board-100.Rhythm Data\n",
    "filename = folder_base / f'continuous.dat'\n",
    "All = np.fromfile(filename, dtype=\"int16\")\n",
    "All = All.reshape(-1,64)\n",
    "\n",
    "All2 = All[:, :32]\n",
    "print(\"All:\", All.shape)\n",
    "print(\"All2:\", All2.shape)"
   ]
  },
  {
   "cell_type": "code",
   "execution_count": 8,
   "metadata": {},
   "outputs": [
    {
     "data": {
      "text/plain": [
       "0"
      ]
     },
     "execution_count": 8,
     "metadata": {},
     "output_type": "execute_result"
    }
   ],
   "source": [
    "%gui qt\n",
    "app = mkQApp()\n",
    "\n",
    "\n",
    "sample_rate = 1000.\n",
    "t_start = 0.\n",
    "\n",
    "#Create the main window that can contain several viewers\n",
    "win = MainViewer()\n",
    "view1 = TraceViewer.from_numpy(All2, sample_rate, t_start, 'Signals')\n",
    "win.add_view(view1)\n",
    "\n",
    "#Parameters can be set in script\n",
    "#view1.params['scale_mode'] = 'same_for_all'\n",
    "view1.params['display_labels'] = True\n",
    "#And also parameters for each channel\n",
    "\n",
    "view1.by_channel_params['ch0', 'gain'] = 0.00002\n",
    "view1.by_channel_params['ch1', 'gain'] = 0.00002\n",
    "view1.by_channel_params['ch2', 'gain'] = 0.00002\n",
    "view1.by_channel_params['ch3', 'gain'] = 0.00002\n",
    "view1.by_channel_params['ch4', 'gain'] = 0.00002\n",
    "view1.by_channel_params['ch5', 'gain'] = 0.00002\n",
    "view1.by_channel_params['ch6', 'gain'] = 0.00002\n",
    "view1.by_channel_params['ch7', 'gain'] = 0.00002\n",
    "view1.by_channel_params['ch8', 'gain'] = 0.00002\n",
    "view1.by_channel_params['ch9', 'gain'] = 0.00002\n",
    "view1.by_channel_params['ch10', 'gain'] = 0.00002\n",
    "view1.by_channel_params['ch11', 'gain'] = 0.00002\n",
    "view1.by_channel_params['ch12', 'gain'] = 0.00002\n",
    "view1.by_channel_params['ch13', 'gain'] = 0.00002\n",
    "view1.by_channel_params['ch14', 'gain'] = 0.00002\n",
    "view1.by_channel_params['ch15', 'gain'] = 0.00002\n",
    "view1.by_channel_params['ch15', 'gain'] = 0.00002\n",
    "view1.by_channel_params['ch15', 'gain'] = 0.00002\n",
    "view1.by_channel_params['ch16', 'gain'] = 0.00002\n",
    "view1.by_channel_params['ch17', 'gain'] = 0.00002\n",
    "view1.by_channel_params['ch18', 'gain'] = 0.00002\n",
    "view1.by_channel_params['ch19', 'gain'] = 0.00002\n",
    "view1.by_channel_params['ch20', 'gain'] = 0.00002\n",
    "view1.by_channel_params['ch21', 'gain'] = 0.00002\n",
    "view1.by_channel_params['ch22', 'gain'] = 0.00002\n",
    "view1.by_channel_params['ch23', 'gain'] = 0.00002\n",
    "view1.by_channel_params['ch24', 'gain'] = 0.00002\n",
    "view1.by_channel_params['ch25', 'gain'] = 0.00002\n",
    "view1.by_channel_params['ch26', 'gain'] = 0.0002\n",
    "view1.by_channel_params['ch27', 'gain'] = 0.0002\n",
    "view1.by_channel_params['ch28', 'gain'] = 0.0002\n",
    "view1.by_channel_params['ch29', 'gain'] = 0.0002\n",
    "view1.by_channel_params['ch30', 'gain'] = 0.00002\n",
    "view1.by_channel_params['ch31', 'gain'] = 0.00002\n",
    "\n",
    "view1.by_channel_params['ch7', 'offset'] = 1.6\n",
    "view1.by_channel_params['ch0', 'offset'] = 1.5\n",
    "view1.by_channel_params['ch1', 'offset'] = 1.4\n",
    "view1.by_channel_params['ch2', 'offset'] = 1.3\n",
    "view1.by_channel_params['ch3', 'offset'] = 1.2\n",
    "view1.by_channel_params['ch4', 'offset'] = 1.1\n",
    "view1.by_channel_params['ch5', 'offset'] = 1\n",
    "view1.by_channel_params['ch6', 'offset'] = 0.9\n",
    "view1.by_channel_params['ch8', 'offset'] = 0.8\n",
    "view1.by_channel_params['ch9', 'offset'] = 0.7\n",
    "view1.by_channel_params['ch10', 'offset'] = 0.6\n",
    "view1.by_channel_params['ch11', 'offset'] = 0.5\n",
    "view1.by_channel_params['ch12', 'offset'] = 0.4\n",
    "view1.by_channel_params['ch13', 'offset'] = 0.3\n",
    "view1.by_channel_params['ch14', 'offset'] = 0.2\n",
    "view1.by_channel_params['ch15', 'offset'] = 0.1\n",
    "view1.by_channel_params['ch16', 'offset'] = 0.\n",
    "view1.by_channel_params['ch17', 'offset'] = -0.1\n",
    "view1.by_channel_params['ch18', 'offset'] = -0.2\n",
    "view1.by_channel_params['ch19', 'offset'] = -0.3\n",
    "view1.by_channel_params['ch20', 'offset'] = -0.4\n",
    "view1.by_channel_params['ch21', 'offset'] = -0.5\n",
    "view1.by_channel_params['ch22', 'offset'] = -0.6\n",
    "view1.by_channel_params['ch23', 'offset'] = -0.7\n",
    "view1.by_channel_params['ch24', 'offset'] = -0.8\n",
    "view1.by_channel_params['ch25', 'offset'] = -0.9\n",
    "view1.by_channel_params['ch26', 'offset'] = -1.\n",
    "view1.by_channel_params['ch27', 'offset'] = -1.1\n",
    "view1.by_channel_params['ch28', 'offset'] = -1.2\n",
    "view1.by_channel_params['ch29', 'offset'] = -1.3\n",
    "view1.by_channel_params['ch30', 'offset'] = -1.4\n",
    "view1.by_channel_params['ch31', 'offset'] = -1.5\n",
    "\n",
    "\n",
    "#Run\n",
    "win.show()\n",
    "app.exec_()\n"
   ]
  }
 ],
 "metadata": {
  "kernelspec": {
   "display_name": "Python 3 (ipykernel)",
   "language": "python",
   "name": "python3"
  },
  "language_info": {
   "codemirror_mode": {
    "name": "ipython",
    "version": 3
   },
   "file_extension": ".py",
   "mimetype": "text/x-python",
   "name": "python",
   "nbconvert_exporter": "python",
   "pygments_lexer": "ipython3",
   "version": "3.9.18"
  },
  "vscode": {
   "interpreter": {
    "hash": "984d3fbee8ffa490637705ae3d7233e001ab0304f3daaca07b5aa8569b88ca53"
   }
  }
 },
 "nbformat": 4,
 "nbformat_minor": 4
}
